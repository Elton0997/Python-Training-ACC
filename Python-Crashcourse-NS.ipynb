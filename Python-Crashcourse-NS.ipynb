{
 "cells": [
  {
   "cell_type": "code",
   "execution_count": 1,
   "metadata": {},
   "outputs": [],
   "source": [
    "# Python Crashcourse by Nilesh Satpute. +918655423607"
   ]
  },
  {
   "cell_type": "code",
   "execution_count": 23,
   "metadata": {},
   "outputs": [
    {
     "name": "stdout",
     "output_type": "stream",
     "text": [
      "50 10 60 500 5.0 5 40 Nilesh Satpute NileshSatpute NileshNileshNilesh\n",
      "------------------\n",
      "50 \n",
      " 10 \n",
      " 60 \n",
      " 500 \n",
      " 5.0 \n",
      " 40 5 \n",
      " \n",
      " Nilesh \n",
      " Satpute \n",
      " NileshSatpute \n",
      " NileshNileshNilesh\n",
      "------------------\n",
      "374.8\n",
      "------------------\n",
      "Nilesh Satpute\n",
      "------------------\n",
      "Result:  1\n",
      "------------------\n",
      "Result:  32\n",
      "------------------\n"
     ]
    }
   ],
   "source": [
    "# Let us study output\n",
    "a = 50\n",
    "b = 10\n",
    "c = a+b\n",
    "d = a*b\n",
    "e = a/b\n",
    "e1 = a//b\n",
    "f = a-b\n",
    "g = \"Nilesh\"\n",
    "h = \"Satpute\"\n",
    "i = G+H\n",
    "j = G*3\n",
    "\n",
    "print (a,b,c,d,e,e1,f,g,h,i,j)\n",
    "print (\"------------------\")\n",
    "\n",
    "# Print every variable of new line\n",
    "print (a,\"\\n\",b,\"\\n\",c,\"\\n\",d,\"\\n\",e,\"\\n\",f,e1,\"\\n\",\"\\n\",g,\"\\n\",h,\"\\n\",i,\"\\n\",j)\n",
    "print (\"------------------\")\n",
    "\n",
    "K = (a+b)*7+c*(e/d)*8-a\n",
    "print (K)\n",
    "print (\"------------------\")\n",
    "\n",
    "L = \"Nilesh\"\n",
    "M = \"Satpute\"\n",
    "N = L + ' ' + M\n",
    "print(N)\n",
    "print (\"------------------\")\n",
    "\n",
    "#remainder of the division\n",
    "result = 25%4\n",
    "print (\"Result: \", result)\n",
    "print (\"------------------\")\n",
    "\n",
    "#power operator 2 raised to power of 5\n",
    "result = 2**5\n",
    "print (\"Result: \", result)\n",
    "print (\"------------------\")\n",
    "\n",
    "\n"
   ]
  },
  {
   "cell_type": "code",
   "execution_count": 8,
   "metadata": {},
   "outputs": [
    {
     "name": "stdout",
     "output_type": "stream",
     "text": [
      "Enter Name:raj\n",
      "rajrajraj   is in the class \n",
      "\n"
     ]
    }
   ],
   "source": [
    "# Let us study input and output\n",
    "#take input\n",
    "name = input (\"Enter Name:\")\n",
    "#Print output\n",
    "print (name*3,\" \",\"is in the class\", \"\\n\")"
   ]
  },
  {
   "cell_type": "code",
   "execution_count": 10,
   "metadata": {},
   "outputs": [
    {
     "name": "stdout",
     "output_type": "stream",
     "text": [
      "True\n",
      "True\n",
      "True\n",
      "False\n",
      "False\n",
      "True\n",
      "False\n",
      "True\n"
     ]
    }
   ],
   "source": [
    "# Boolean\n",
    "print (8>6)\n",
    "print (5<6)\n",
    "print(5<=6)\n",
    "print(5>=6)\n",
    "print(5==6)\n",
    "print(5==5)\n",
    "print(5!=5)\n",
    "print(5!=6)"
   ]
  },
  {
   "cell_type": "code",
   "execution_count": 32,
   "metadata": {},
   "outputs": [
    {
     "name": "stdout",
     "output_type": "stream",
     "text": [
      "True\n",
      "False\n",
      "False\n",
      "True\n",
      "True\n",
      "False\n",
      "False\n",
      "True\n"
     ]
    }
   ],
   "source": [
    "#logical\n",
    "print (True and True) \n",
    "#true\n",
    "print (True and False) \n",
    "#false\n",
    "print (False and False) \n",
    "#false\n",
    "print (True or True) \n",
    "#true\n",
    "print (False or True) \n",
    "#true\n",
    "print (False or False)\n",
    "#false\n",
    "print (not True)\n",
    "print (not False)"
   ]
  },
  {
   "cell_type": "code",
   "execution_count": 13,
   "metadata": {},
   "outputs": [
    {
     "name": "stdout",
     "output_type": "stream",
     "text": [
      "Learning if \n"
     ]
    }
   ],
   "source": [
    "#only if\n",
    "\n",
    "a = 4\n",
    "# assign different numbers to a and check the output\n",
    "\n",
    "if a > 6:\n",
    "   print (\"printing because if is true\")\n",
    "print (\"Learning if \")    "
   ]
  },
  {
   "cell_type": "code",
   "execution_count": 2,
   "metadata": {},
   "outputs": [
    {
     "name": "stdout",
     "output_type": "stream",
     "text": [
      "1\n",
      "2\n",
      "3\n",
      "4\n",
      "5\n",
      "6\n",
      "7\n",
      "8\n",
      "9\n",
      "10\n",
      "11\n",
      "12\n",
      "13\n",
      "14\n",
      "15\n",
      "16\n",
      "17\n",
      "18\n",
      "19\n",
      "20\n",
      "21\n",
      "22\n",
      "23\n",
      "24\n",
      "25\n"
     ]
    }
   ],
   "source": [
    "#repeating task for multple times ( n times) -- The while way\n",
    "i = 1\n",
    "j = 25\n",
    "\n",
    "while i <= j:\n",
    "    print (i)\n",
    "    i = i+1"
   ]
  },
  {
   "cell_type": "code",
   "execution_count": 14,
   "metadata": {},
   "outputs": [
    {
     "name": "stdout",
     "output_type": "stream",
     "text": [
      "1\n",
      "2\n",
      "3\n",
      "4\n"
     ]
    }
   ],
   "source": [
    "# repeating task for items in a range or list \n",
    "\n",
    "for i in range (1,5):\n",
    "    print (i)"
   ]
  },
  {
   "cell_type": "code",
   "execution_count": 16,
   "metadata": {},
   "outputs": [
    {
     "name": "stdout",
     "output_type": "stream",
     "text": [
      "2\n",
      "2.3\n",
      "two\n",
      "Maya\n",
      "Raj\n",
      "Preeti\n",
      "Mayur\n"
     ]
    }
   ],
   "source": [
    "mylist = [2, 2.3, \"two\", \"Maya\", \"Raj\", \"Preeti\", \"Mayur\"]\n",
    "for i in mylist:\n",
    "    print (i)"
   ]
  },
  {
   "cell_type": "code",
   "execution_count": 18,
   "metadata": {},
   "outputs": [
    {
     "name": "stdout",
     "output_type": "stream",
     "text": [
      "19  is a prime number\n"
     ]
    }
   ],
   "source": [
    "# program to check if i is prime number\n",
    "i = 19\n",
    "flag = 1\n",
    "for j in range(2,i):\n",
    "    if i%j == 0:\n",
    "     print (i, ' can be fully divided by' ,j )\n",
    "     flag = 0\n",
    "    break\n",
    "        \n",
    "if flag == 1:\n",
    "    print (i, ' is a prime number')\n"
   ]
  },
  {
   "cell_type": "code",
   "execution_count": 21,
   "metadata": {},
   "outputs": [
    {
     "name": "stdout",
     "output_type": "stream",
     "text": [
      "2  is a prime number\n",
      "3  is a prime number\n",
      "5  is a prime number\n",
      "7  is a prime number\n",
      "11  is a prime number\n",
      "13  is a prime number\n",
      "17  is a prime number\n",
      "19  is a prime number\n"
     ]
    }
   ],
   "source": [
    "# program to find prime numbers in 1 to 20 numbers\n",
    "\n",
    "i = 2\n",
    "n = 20\n",
    "while i<=n:\n",
    "    flag = 1\n",
    "    for j in range(2,i):\n",
    "     if i%j == 0:\n",
    "        #print (i, ' can be fully divided by' ,j )\n",
    "        flag = 0\n",
    "        break\n",
    "        \n",
    "    if flag == 1:\n",
    "        print (i, ' is a prime number')\n",
    "    \n",
    "    i = i+1\n"
   ]
  },
  {
   "cell_type": "code",
   "execution_count": 3,
   "metadata": {},
   "outputs": [
    {
     "name": "stdout",
     "output_type": "stream",
     "text": [
      "1900  is not a leap year\n"
     ]
    }
   ],
   "source": [
    "# check leap year\n",
    "year = 1900\n",
    "if year % 4 ==0:\n",
    "    if year % 100 ==0:\n",
    "        if year % 400 ==0:\n",
    "            print (year,' is a leap year')\n",
    "        else:\n",
    "            print (year,' is not a leap year')\n",
    "    else:\n",
    "        print (year,' is a leap year')\n",
    "else:\n",
    "    print (year,' is not a leap year')"
   ]
  },
  {
   "cell_type": "code",
   "execution_count": 18,
   "metadata": {},
   "outputs": [
    {
     "name": "stdout",
     "output_type": "stream",
     "text": [
      "2100  is not a leap year\n",
      "2101  is not a leap year\n",
      "2102  is not a leap year\n",
      "2103  is not a leap year\n",
      "2104  is a leap year\n",
      "2105  is not a leap year\n",
      "2106  is not a leap year\n",
      "2107  is not a leap year\n",
      "2108  is a leap year\n",
      "2109  is not a leap year\n",
      "2110  is not a leap year\n",
      "2111  is not a leap year\n",
      "2112  is a leap year\n",
      "2113  is not a leap year\n",
      "2114  is not a leap year\n",
      "2115  is not a leap year\n",
      "2116  is a leap year\n",
      "2117  is not a leap year\n",
      "2118  is not a leap year\n",
      "2119  is not a leap year\n",
      "2120  is a leap year\n",
      "2121  is not a leap year\n",
      "2122  is not a leap year\n",
      "2123  is not a leap year\n",
      "2124  is a leap year\n",
      "2125  is not a leap year\n",
      "2126  is not a leap year\n",
      "2127  is not a leap year\n",
      "2128  is a leap year\n",
      "2129  is not a leap year\n",
      "2130  is not a leap year\n",
      "2131  is not a leap year\n",
      "2132  is a leap year\n",
      "2133  is not a leap year\n",
      "2134  is not a leap year\n",
      "2135  is not a leap year\n",
      "2136  is a leap year\n",
      "2137  is not a leap year\n",
      "2138  is not a leap year\n",
      "2139  is not a leap year\n",
      "2140  is a leap year\n",
      "2141  is not a leap year\n",
      "2142  is not a leap year\n",
      "2143  is not a leap year\n",
      "2144  is a leap year\n",
      "2145  is not a leap year\n",
      "2146  is not a leap year\n",
      "2147  is not a leap year\n",
      "2148  is a leap year\n",
      "2149  is not a leap year\n",
      "2150  is not a leap year\n",
      "2151  is not a leap year\n",
      "2152  is a leap year\n",
      "2153  is not a leap year\n",
      "2154  is not a leap year\n",
      "2155  is not a leap year\n",
      "2156  is a leap year\n",
      "2157  is not a leap year\n",
      "2158  is not a leap year\n",
      "2159  is not a leap year\n",
      "2160  is a leap year\n",
      "2161  is not a leap year\n",
      "2162  is not a leap year\n",
      "2163  is not a leap year\n",
      "2164  is a leap year\n",
      "2165  is not a leap year\n",
      "2166  is not a leap year\n",
      "2167  is not a leap year\n",
      "2168  is a leap year\n",
      "2169  is not a leap year\n",
      "2170  is not a leap year\n",
      "2171  is not a leap year\n",
      "2172  is a leap year\n",
      "2173  is not a leap year\n",
      "2174  is not a leap year\n",
      "2175  is not a leap year\n",
      "2176  is a leap year\n",
      "2177  is not a leap year\n",
      "2178  is not a leap year\n",
      "2179  is not a leap year\n",
      "2180  is a leap year\n",
      "2181  is not a leap year\n",
      "2182  is not a leap year\n",
      "2183  is not a leap year\n",
      "2184  is a leap year\n",
      "2185  is not a leap year\n",
      "2186  is not a leap year\n",
      "2187  is not a leap year\n",
      "2188  is a leap year\n",
      "2189  is not a leap year\n",
      "2190  is not a leap year\n",
      "2191  is not a leap year\n",
      "2192  is a leap year\n",
      "2193  is not a leap year\n",
      "2194  is not a leap year\n",
      "2195  is not a leap year\n",
      "2196  is a leap year\n",
      "2197  is not a leap year\n",
      "2198  is not a leap year\n",
      "2199  is not a leap year\n"
     ]
    }
   ],
   "source": [
    "#check leap year of 21st century\n",
    "\n",
    "year = 2100\n",
    "while year <= 2199:\n",
    "    if year % 4 ==0:\n",
    "        if year % 100 ==0:\n",
    "            if year % 400 ==0:\n",
    "                print (year,' is a leap year')\n",
    "            else:\n",
    "                print (year,' is not a leap year')\n",
    "        else:\n",
    "            print (year,' is a leap year')\n",
    "    \n",
    "    else:\n",
    "        print (year,' is not a leap year')\n",
    "    year = year + 1\n",
    "    "
   ]
  },
  {
   "cell_type": "code",
   "execution_count": null,
   "metadata": {},
   "outputs": [],
   "source": []
  }
 ],
 "metadata": {
  "kernelspec": {
   "display_name": "Python 3",
   "language": "python",
   "name": "python3"
  },
  "language_info": {
   "codemirror_mode": {
    "name": "ipython",
    "version": 3
   },
   "file_extension": ".py",
   "mimetype": "text/x-python",
   "name": "python",
   "nbconvert_exporter": "python",
   "pygments_lexer": "ipython3",
   "version": "3.8.5"
  }
 },
 "nbformat": 4,
 "nbformat_minor": 4
}
