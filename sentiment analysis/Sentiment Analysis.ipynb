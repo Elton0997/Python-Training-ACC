{
 "cells": [
  {
   "cell_type": "code",
   "execution_count": 1,
   "metadata": {},
   "outputs": [
    {
     "name": "stdout",
     "output_type": "stream",
     "text": [
      "['Good company Reputed Amazing products, good work-life balance\\n', \"Can develop a tech learning platform to your employees and so that employees can learn and improve themselves. I don't see any tech learning portals in Amazon.\\n\"]\n"
     ]
    }
   ],
   "source": [
    "with open(\"companyreview.txt\", 'r') as fh:  \n",
    "    reviews = fh.readlines()\n",
    "print(reviews[:2])"
   ]
  },
  {
   "cell_type": "code",
   "execution_count": 2,
   "metadata": {},
   "outputs": [
    {
     "name": "stdout",
     "output_type": "stream",
     "text": [
      "Review                                   : Polarity   : Subjectivity\n",
      "Good company Reputed                     :    0.67    :   0.70\n",
      "Can develop a tech l                     :    0.00    :   0.00\n",
      "Amazon's culture is                      :    1.00    :   0.30\n",
      "Good, flexible, enth                     :    0.63    :   0.80\n",
      "Good opportunity to                      :    0.70    :   0.60\n",
      "\n",
      "                                        :    0.00    :   0.00\n"
     ]
    }
   ],
   "source": [
    "\n",
    "from textblob import TextBlob\n",
    "\n",
    "print('{:40} : {:10} : {:10}'.format(\"Review\", \"Polarity\", \"Subjectivity\") )\n",
    "\n",
    "for review in reviews:\n",
    "    \n",
    "    sentiment = TextBlob(review)\n",
    "    \n",
    "    print('{:40} :   {: 01.2f}    :   {:01.2f}'.format(review[:20]\\\n",
    "                , sentiment.polarity, sentiment.subjectivity) )\n"
   ]
  },
  {
   "cell_type": "code",
   "execution_count": 24,
   "metadata": {},
   "outputs": [
    {
     "name": "stdout",
     "output_type": "stream",
     "text": [
      "Final summarized counts : [3, 0, 3]\n",
      "\n",
      " Pie Representation \n",
      "-------------------\n"
     ]
    },
    {
     "data": {
      "image/png": "[encoded data removed]",
      "text/plain": [
       "<Figure size 432x288 with 1 Axes>"
      ]
     },
     "metadata": {},
     "output_type": "display_data"
    }
   ],
   "source": [
    "\n",
    "labels = [\"Negative\", \"Neutral\", \"Positive\"]\n",
    "\n",
    "\n",
    "values =[0,0,0]\n",
    "\n",
    "\n",
    "for review in reviews:\n",
    "    sentiment = TextBlob(review)\n",
    "    \n",
    "    \n",
    "    polarity = round(( sentiment.polarity + 1 ) * 3 ) % 3\n",
    "    \n",
    "    \n",
    "    values[polarity] = values[polarity] + 1\n",
    "    \n",
    "print(\"Final summarized counts :\", values)\n",
    "\n",
    "import matplotlib.pyplot as plt\n",
    "\n",
    "colors=[\"White\",\"Blue\",\"Red\"]\n",
    "\n",
    "print(\"\\n Pie Representation \\n-------------------\")\n",
    "\n",
    "plt.pie(values, labels=labels, colors=colors, \\\n",
    "        autopct='%1.1f%%', shadow=True, startangle=140)\n",
    "plt.axis('equal')\n",
    "plt.show()"
   ]
  },
  {
   "cell_type": "code",
   "execution_count": null,
   "metadata": {},
   "outputs": [],
   "source": []
  },
  {
   "cell_type": "code",
   "execution_count": null,
   "metadata": {},
   "outputs": [],
   "source": []
  }
 ],
 "metadata": {
  "kernelspec": {
   "display_name": "Python 3",
   "language": "python",
   "name": "python3"
  },
  "language_info": {
   "codemirror_mode": {
    "name": "ipython",
    "version": 3
   },
   "file_extension": ".py",
   "mimetype": "text/x-python",
   "name": "python",
   "nbconvert_exporter": "python",
   "pygments_lexer": "ipython3",
   "version": "3.8.5"
  }
 },
 "nbformat": 4,
 "nbformat_minor": 2
}
