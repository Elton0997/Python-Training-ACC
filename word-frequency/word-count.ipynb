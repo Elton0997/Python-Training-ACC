{
 "cells": [
  {
   "cell_type": "code",
   "execution_count": 3,
   "metadata": {},
   "outputs": [
    {
     "name": "stdout",
     "output_type": "stream",
     "text": [
      "Number of words in the file : Counter({'the': 46, 'of': 39, 'to': 35, 'is': 23, 'and': 19, 'in': 18, 'our': 12, 'are': 11, 'The': 10, 'on': 9, 'be': 8, 'this': 8, 'Friends,': 8, 'a': 8, 'India': 8, 'will': 7, 'we': 7, 'by': 7, 'has': 7, 'I': 6, 'This': 6, 'sustainable': 6, 'for': 5, 'like': 5, 'justice': 5, 'also': 5, 'from': 5, 'percent': 5, 'would': 5, 'development': 5, 'Through': 5, 'Excellency,': 4, 'Climate': 4, 'We': 4, 'about': 4, 'climate': 4, 'one': 4, 'that': 4, 'capacity': 4, 'share': 4, 'energy': 4, 'million': 4, 'working': 4, 'Sustainable': 3, 'health': 3, 'planet.': 3, 'There': 3, 'many': 3, 'have': 3, 'development.': 3, 'with': 3, 'countries': 3, 'every': 3, 'us': 3, 'In': 3, 'over': 3, 'gas': 3, 'green': 3, 'Our': 3, 'cover': 3, 'forest': 3, 'when': 3, 'best': 3, 'efforts.': 3, 'Mohamed': 2, 'Republic': 2, 'Minister': 2, 'Forest': 2, 'India,': 2, 'am': 2, 'happy': 2, 'forum': 2, 'years.': 2, 'TERI': 2, 'Global': 2, 'important': 2, 'progress': 2, 'already': 2, 'discussions': 2, \"people's\": 2, 'But,': 2, 'need': 2, 'think': 2, 'towards': 2, 'through': 2, 'thinking': 2, 'long': 2, 'environment': 2, 'natural': 2, 'developing': 2, 'When': 2, 'individual': 2, 'collective': 2, 'achieved.': 2, \"India's\": 2, 'track': 2, 'intensity': 2, 'was': 2, 'commitment': 2, 'installed': 2, 'non-fossil': 2, '38': 2, 'percent.': 2, 'includes': 2, 'Renewable': 2, 'up': 2, 'giga': 2, 'watts': 2, 'sector': 2, 'direction': 2, 'made': 2, 'achieved': 2, 'LED': 2, 'bulbs': 2, 'became': 2, 'three': 2, 'part': 2, 'house-holds': 2, 'more': 2, 'become': 2, 'only': 2, 'results.': 2, 'last': 2, 'country': 2, 'people': 2, 'attention': 2, 'minds': 2, 'thinks': 2, 'good,': 2, 'global': 2, 'always': 2, 'practices': 2, 'As': 2, 'support': 2, 'these': 2, 'human': 2, 'you': 2, 'very': 2, 'Thank': 2, 'Doctor': 1, 'Irfaan': 1, 'Ali,': 1, 'President': 1, 'Cooperative': 1, 'Guyana,': 1, 'Honourable': 1, 'James': 1, 'Marape': 1, 'Prime': 1, 'Papua': 1, 'New': 1, 'Guinea,': 1, 'my': 1, 'friend,': 1, 'Nasheed,': 1, 'Speaker': 1, \"People's\": 1, 'Majlis': 1, 'Maldives': 1, 'Miss': 1, 'Amina': 1, 'J': 1, 'Mohammed,': 1, 'Deputy': 1, 'Secretary': 1, 'General,': 1, 'United': 1, 'Nations': 1, 'Shri': 1, 'Prakash': 1, 'Javadekar,': 1, 'Environment,': 1, 'Change,': 1, 'Government': 1, 'Distinguished': 1, 'guests,': 1, 'Namaste!': 1, 'speaking': 1, 'at': 1, 'World': 1, 'Development': 1, 'Summit.': 1, 'completes': 1, 'twenty': 1, 'My': 1, 'congratulations': 1, 'sustaining': 1, 'momentum': 1, 'platforms': 1, 'present': 1, 'future.': 1, 'Two': 1, 'things': 1, 'define': 1, 'how': 1, 'journey': 1, 'humanity': 1, 'unfold': 1, 'times': 1, 'come.': 1, 'First': 1, 'people.': 1, 'Second': 1, 'Both': 1, 'inter-linked.': 1, 'ongoing': 1, 'improving': 1, 'health.': 1, 'gathered': 1, 'here': 1, 'talk': 1, 'scale': 1, 'challenge': 1, 'face': 1, 'widely': 1, 'known.': 1, 'conventional': 1, 'approaches': 1, 'cannot': 1, 'solve': 1, 'problems': 1, 'face.': 1, 'hour': 1, 'out': 1, 'box': 1, 'invest': 1, 'youngsters': 1, 'work': 1, 'road': 1, 'fighting': 1, 'change': 1, 'justice.': 1, 'At': 1, 'route': 1, 'principle': 1, 'being': 1, 'large-hearted.': 1, 'bigger': 1, 'term': 1, 'picture.': 1, 'sad': 1, 'reality': 1, 'is-changes': 1, 'disasters': 1, 'impact': 1, 'poor': 1, 'most.': 1, 'inspired': 1, 'vision': 1, 'trusteeship-': 1, 'where': 1, 'growth': 1, 'comes': 1, 'greater': 1, 'compassion': 1, 'poorest.': 1, 'means': 1, 'giving': 1, 'enough': 1, 'space': 1, 'grow.': 1, 'each': 1, 'understands': 1, 'duties,': 1, 'intent': 1, 'supported': 1, 'concrete': 1, 'action.': 1, 'Powered': 1, 'spirited': 1, 'public': 1, 'efforts,': 1, 'exceed': 1, 'commitments': 1, 'targets': 1, 'Paris.': 1, 'committed': 1, 'reduce': 1, 'emissions': 1, 'GDP': 1, '33': 1, '35': 1, '2005': 1, 'levels.': 1, 'You': 1, 'know': 1, 'drop': 1, '24': 1, 'emission': 1, 'been': 1, 'achieving': 1, '40': 1, 'cumulative': 1, 'electric': 1, 'power': 1, 'fuel': 1, 'based': 1, 'resources.': 1, 'And': 1, 'sources': 1, 'electricity': 1, 'today': 1, 'grown': 1, 'nuclear': 1, 'large': 1, 'hydro': 1, 'projects.': 1, 'delighted': 1, 'making': 1, 'steady': 1, 'Land': 1, 'Degradation': 1, 'Neutrality': 1, 'picking': 1, 'speed': 1, 'India.': 1, 'well': 1, 'setting': 1, '450': 1, 'Energy': 1, 'generating': 1, '2030.': 1, 'Here,': 1, 'applaud': 1, 'private': 1, 'several': 1, 'individuals': 1, 'who': 1, 'contributing': 1, 'this.': 1, 'increasing': 1, 'usage': 1, 'ethanol.': 1, 'incomplete': 1, 'without': 1, 'equitable': 1, 'access.': 1, 'too,': 1, 'good': 1, 'progress.': 1, 'march': 1, '2019,': 1, 'nearly': 1, 'hundred': 1, 'electrification.': 1, 'done': 1, 'technologies': 1, 'innovative': 1, 'models.': 1, 'invested': 1, 'before': 1, 'they': 1, 'norm': 1, 'globally.': 1, 'Ujala': 1, 'program,': 1, '67': 1, 'lives.': 1, 'reduced': 1, 'tonnes': 1, 'carbon': 1, 'dioxide': 1, 'per': 1, 'year.': 1, 'Jal': 1, 'Jeevan': 1, 'Mission': 1, 'connected': 1, '34': 1, 'tap': 1, 'connections': 1, 'just': 1, '18': 1, 'months.': 1, 'PM': 1, 'Ujjwala': 1, 'Yojna': 1, 'than': 1, '80': 1, 'below': 1, 'poverty': 1, 'line': 1, 'access': 1, 'clean': 1, 'cooking': 1, 'fuel.': 1, 'increase': 1, 'basket': 1, '6': 1, '15': 1, 'An': 1, 'estimated': 1, 'investment': 1, '60': 1, 'billion': 1, 'dollars': 1, 'lined': 1, 'domestic': 1, 'infrastructure.': 1, 'Work': 1, 'under': 1, 'way': 1, 'expand': 1, 'city': 1, 'distribution': 1, 'networks.': 1, 'Another': 1, '100': 1, 'districts': 1, 'added': 1, 'network': 1, 'next': 1, 'PM-': 1, 'KUSUM': 1, 'scheme,': 1, '30': 1, 'solar': 1, 'developed': 1, 'agriculture': 1, '2022.': 1, 'Often,': 1, 'sustainability': 1, 'too': 1, 'focused': 1, 'energy.': 1, 'But': 1, 'means.': 1, 'destination': 1, 'seek': 1, 'greener': 1, \"culture's\": 1, 'deep': 1, 'respect': 1, 'forests': 1, 'translating': 1, 'into': 1, 'out-standing': 1, 'According': 1, \"FAO's\": 1, 'Resources': 1, 'Assessment': 1, '2020:': 1, 'among': 1, 'top': 1, '3': 1, 'gained': 1, 'areas': 1, 'decade.': 1, 'reached': 1, 'almost': 1, 'fourth': 1, 'geographic': 1, 'area.': 1, 'Conventional': 1, 'may': 1, 'make': 1, 'some': 1, 'pursues': 1, 'development,': 1, 'then': 1, 'goes': 1, 'down.': 1, 'showing': 1, 'not': 1, 'case.': 1, 'mission': 1, 'achieve': 1, 'special': 1, 'animal': 1, 'protection.': 1, 'Across': 1, 'feel': 1, 'proud': 1, 'that:': 1, 'Over': 1, 'five': 1, 'seven': 1, 'years,': 1, 'population': 1, 'lions,': 1, 'tigers,': 1, 'leopards': 1, 'Gangetic': 1, 'river': 1, 'dolphin': 1, 'gone': 1, 'up.': 1, 'gathering': 1, 'brings': 1, 'together': 1, 'brightest': 1, 'draw': 1, 'two': 1, 'aspects:': 1, 'Togetherness': 1, 'Innovation.': 1, 'national': 1, 'nation': 1, 'reality.': 1, 'an': 1, 'effort': 1, 'International': 1, 'Solar': 1, 'Alliance.': 1, 'Let': 1, 'keep': 1, 'nations': 1, 'open': 1, 'all': 1, 'over.': 1, 'same': 1, 'spirit,': 1, 'let': 1, 'own': 1, 'others.': 1, 'second': 1, 'innovation.': 1, 'start-ups': 1, 'renewable': 1, 'energy,': 1, 'friendly': 1, 'technology': 1, 'more.': 1, 'policy': 1, 'makers,': 1, 'should': 1, 'as': 1, 'youth': 1, 'certainly': 1, 'lead': 1, 'outstanding': 1, 'mention': 1, 'area': 1, 'which': 1, 'needs': 1, 'thought': 1, 'That': 1, 'the-': 1, 'enhancing': 1, 'disaster': 1, 'management': 1, 'capabilities.': 1, 'requires': 1, 'focus': 1, 'resource': 1, 'technology.': 1, 'Coalition': 1, 'Disaster': 1, 'Resilient': 1, 'Infrastructure,': 1, 'direction.': 1, 'ready': 1, 'do': 1, 'whatever': 1, 'possible': 1, 'further': 1, 'centric': 1, 'approach': 1, 'could': 1, 'force': 1, 'multiplier': 1, 'good.': 1, 'research': 1, 'institutions': 1, 'wish': 1, 'Summit,': 1, 'all,': 1, 'best.': 1, 'you!': 1, 'much.': 1})\n"
     ]
    }
   ],
   "source": [
    "from collections import Counter\n",
    "def word_count(fname):\n",
    "        with open(fname) as f:\n",
    "                return Counter(f.read().split())\n",
    "\n",
    "print(\"Number of words in the file :\",word_count(\"pmspeech1.txt\"))"
   ]
  },
  {
   "cell_type": "code",
   "execution_count": null,
   "metadata": {},
   "outputs": [],
   "source": []
  }
 ],
 "metadata": {
  "kernelspec": {
   "display_name": "Python 3",
   "language": "python",
   "name": "python3"
  },
  "language_info": {
   "codemirror_mode": {
    "name": "ipython",
    "version": 3
   },
   "file_extension": ".py",
   "mimetype": "text/x-python",
   "name": "python",
   "nbconvert_exporter": "python",
   "pygments_lexer": "ipython3",
   "version": "3.8.5"
  }
 },
 "nbformat": 4,
 "nbformat_minor": 4
}
